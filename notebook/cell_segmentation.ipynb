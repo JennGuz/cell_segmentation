{
 "cells": [
  {
   "cell_type": "code",
   "execution_count": 3,
   "metadata": {},
   "outputs": [],
   "source": [
    "import logging\n",
    "import joblib\n",
    "import pandas as pd\n",
    "import numpy as np\n",
    "import matplotlib.pyplot as plt\n",
    "import seaborn as sns\n",
    "from sklearn.model_selection import train_test_split\n",
    "from sklearn.ensemble import RandomForestClassifier\n",
    "from sklearn.preprocessing import LabelEncoder, PowerTransformer\n",
    "from sklearn.metrics import (accuracy_score, f1_score, ConfusionMatrixDisplay, \n",
    "                             RocCurveDisplay, DetCurveDisplay, classification_report)\n",
    "from sklearn.tree import plot_tree\n",
    "from sklearn.inspection import permutation_importance\n",
    "from sklearn.ensemble import GradientBoostingClassifier\n",
    "\n",
    "logger = logging.getLogger()\n",
    "logger.setLevel(logging.INFO)\n",
    "\n",
    "# cargar datos\n",
    "df_raw = pd.read_csv(\"skbr_cells.csv\")\n"
   ]
  },
  {
   "cell_type": "code",
   "execution_count": 7,
   "metadata": {},
   "outputs": [
    {
     "ename": "NameError",
     "evalue": "name 'df_train' is not defined",
     "output_type": "error",
     "traceback": [
      "\u001b[0;31m---------------------------------------------------------------------------\u001b[0m",
      "\u001b[0;31mNameError\u001b[0m                                 Traceback (most recent call last)",
      "Cell \u001b[0;32mIn[7], line 2\u001b[0m\n\u001b[1;32m      1\u001b[0m power_transformer \u001b[38;5;241m=\u001b[39m PowerTransformer()\n\u001b[0;32m----> 2\u001b[0m X_train \u001b[38;5;241m=\u001b[39m power_transformer\u001b[38;5;241m.\u001b[39mfit_transform(\u001b[43mdf_train\u001b[49m\u001b[38;5;241m.\u001b[39mdrop(\u001b[38;5;124m'\u001b[39m\u001b[38;5;124mtarget\u001b[39m\u001b[38;5;124m'\u001b[39m,axis\u001b[38;5;241m=\u001b[39m\u001b[38;5;241m1\u001b[39m))\n\u001b[1;32m      3\u001b[0m X_test \u001b[38;5;241m=\u001b[39m power_transformer\u001b[38;5;241m.\u001b[39mtransform(df_test\u001b[38;5;241m.\u001b[39mdrop(\u001b[38;5;124m'\u001b[39m\u001b[38;5;124mtarget\u001b[39m\u001b[38;5;124m'\u001b[39m,axis\u001b[38;5;241m=\u001b[39m\u001b[38;5;241m1\u001b[39m))\n\u001b[1;32m      4\u001b[0m df_train_tf \u001b[38;5;241m=\u001b[39m pd\u001b[38;5;241m.\u001b[39mDataFrame(X_train, columns\u001b[38;5;241m=\u001b[39mdf_train\u001b[38;5;241m.\u001b[39mdrop(\u001b[38;5;124m'\u001b[39m\u001b[38;5;124mtarget\u001b[39m\u001b[38;5;124m'\u001b[39m,axis\u001b[38;5;241m=\u001b[39m\u001b[38;5;241m1\u001b[39m)\u001b[38;5;241m.\u001b[39mcolumns)\u001b[38;5;241m.\u001b[39mreset_index(drop\u001b[38;5;241m=\u001b[39m\u001b[38;5;28;01mTrue\u001b[39;00m)\n",
      "\u001b[0;31mNameError\u001b[0m: name 'df_train' is not defined"
     ]
    }
   ],
   "source": [
    "power_transformer = PowerTransformer()\n",
    "X_train = power_transformer.fit_transform(df_train.drop('target',axis=1))\n",
    "X_test = power_transformer.transform(df_test.drop('target',axis=1))\n",
    "df_train_tf = pd.DataFrame(X_train, columns=df_train.drop('target',axis=1).columns).reset_index(drop=True)\n",
    "df_test_tf = pd.DataFrame(X_test, columns=df_test.drop('target',axis=1).columns).reset_index(drop=True)\n",
    "df_train_tf['target'] = df_train['target'].values\n",
    "df_test_tf['target'] = df_test['target'].values\n",
    "df_train.i\n",
    "df_train.info()\n",
    "display(df_train_tf.sample(4))\n",
    "display(df_test_tf.sample(4))"
   ]
  },
  {
   "cell_type": "code",
   "execution_count": 5,
   "metadata": {},
   "outputs": [
    {
     "ename": "NameError",
     "evalue": "name 'df' is not defined",
     "output_type": "error",
     "traceback": [
      "\u001b[0;31m---------------------------------------------------------------------------\u001b[0m",
      "\u001b[0;31mNameError\u001b[0m                                 Traceback (most recent call last)",
      "Cell \u001b[0;32mIn[5], line 3\u001b[0m\n\u001b[1;32m      1\u001b[0m \u001b[38;5;66;03m# EDA\u001b[39;00m\n\u001b[0;32m----> 3\u001b[0m df_train, df_test \u001b[38;5;241m=\u001b[39m train_test_split(\u001b[43mdf\u001b[49m,\n\u001b[1;32m      4\u001b[0m                                      random_state\u001b[38;5;241m=\u001b[39m\u001b[38;5;241m2024\u001b[39m,\n\u001b[1;32m      5\u001b[0m                                      test_size\u001b[38;5;241m=\u001b[39m\u001b[38;5;241m0.20\u001b[39m,\n\u001b[1;32m      6\u001b[0m                                      stratify\u001b[38;5;241m=\u001b[39mdf[\u001b[38;5;124m'\u001b[39m\u001b[38;5;124mtarget\u001b[39m\u001b[38;5;124m'\u001b[39m])\n\u001b[1;32m      8\u001b[0m power_transformer \u001b[38;5;241m=\u001b[39m PowerTransformer()\n\u001b[1;32m      9\u001b[0m X_train \u001b[38;5;241m=\u001b[39m power_transformer\u001b[38;5;241m.\u001b[39mfit_transform(df_train\u001b[38;5;241m.\u001b[39mdrop(\u001b[38;5;124m'\u001b[39m\u001b[38;5;124mtarget\u001b[39m\u001b[38;5;124m'\u001b[39m, axis\u001b[38;5;241m=\u001b[39m\u001b[38;5;241m1\u001b[39m))\n",
      "\u001b[0;31mNameError\u001b[0m: name 'df' is not defined"
     ]
    }
   ],
   "source": [
    "# EDA\n",
    "\n",
    "df_train, df_test = train_test_split(df,\n",
    "                                     random_state=2024,\n",
    "                                     test_size=0.20,\n",
    "                                     stratify=df['target'])\n",
    "\n",
    "power_transformer = PowerTransformer()\n",
    "X_train = power_transformer.fit_transform(df_train.drop('target', axis=1))\n",
    "X_test = power_transformer.transform(df_test.drop('target', axis=1))\n",
    "df_train_tf = pd.DataFrame(X_train, columns=df_train.drop('target', axis=1).columns)\n",
    "df_test_tf = pd.DataFrame(X_test, columns=df_test.drop('target', axis=1).columns)\n",
    "df_train_x = pd.concat([df_train['target'], df_train_tf])\n",
    "df_test_x = pd.concat([df_test['target'], df_test_tf])\n",
    "df_train = df_train_x\n",
    "df_test = df_test_x\n",
    "df_train.info()\n"
   ]
  },
  {
   "cell_type": "code",
   "execution_count": 6,
   "metadata": {},
   "outputs": [
    {
     "ename": "NameError",
     "evalue": "name 'df_train' is not defined",
     "output_type": "error",
     "traceback": [
      "\u001b[0;31m---------------------------------------------------------------------------\u001b[0m",
      "\u001b[0;31mNameError\u001b[0m                                 Traceback (most recent call last)",
      "Cell \u001b[0;32mIn[6], line 2\u001b[0m\n\u001b[1;32m      1\u001b[0m power_transformer \u001b[38;5;241m=\u001b[39m PowerTransformer()\n\u001b[0;32m----> 2\u001b[0m X_train \u001b[38;5;241m=\u001b[39m power_transformer\u001b[38;5;241m.\u001b[39mfit_transform(\u001b[43mdf_train\u001b[49m\u001b[38;5;241m.\u001b[39mdrop(\u001b[38;5;124m'\u001b[39m\u001b[38;5;124mtarget\u001b[39m\u001b[38;5;124m'\u001b[39m, axis\u001b[38;5;241m=\u001b[39m\u001b[38;5;241m1\u001b[39m))\n\u001b[1;32m      3\u001b[0m X_test \u001b[38;5;241m=\u001b[39m power_transformer\u001b[38;5;241m.\u001b[39mtransform(df_test\u001b[38;5;241m.\u001b[39mdrop(\u001b[38;5;124m'\u001b[39m\u001b[38;5;124mtarget\u001b[39m\u001b[38;5;124m'\u001b[39m, axis\u001b[38;5;241m=\u001b[39m\u001b[38;5;241m1\u001b[39m))\n\u001b[1;32m      4\u001b[0m df_train_tf \u001b[38;5;241m=\u001b[39m pd\u001b[38;5;241m.\u001b[39mDataFrame(X_train, columns\u001b[38;5;241m=\u001b[39mdf_train\u001b[38;5;241m.\u001b[39mdrop(\u001b[38;5;124m'\u001b[39m\u001b[38;5;124mtarget\u001b[39m\u001b[38;5;124m'\u001b[39m, axis\u001b[38;5;241m=\u001b[39m\u001b[38;5;241m1\u001b[39m)\u001b[38;5;241m.\u001b[39mcolumns)\u001b[38;5;241m.\u001b[39mreset_index(drop\u001b[38;5;241m=\u001b[39m\u001b[38;5;28;01mTrue\u001b[39;00m)\n",
      "\u001b[0;31mNameError\u001b[0m: name 'df_train' is not defined"
     ]
    }
   ],
   "source": [
    "power_transformer = PowerTransformer()\n",
    "X_train = power_transformer.fit_transform(df_train.drop('target', axis=1))\n",
    "X_test = power_transformer.transform(df_test.drop('target', axis=1))\n",
    "df_train_tf = pd.DataFrame(X_train, columns=df_train.drop('target', axis=1).columns).reset_index(drop=True)\n",
    "df_test_tf = pd.DataFrame(X_test, columns=df_test.drop('target', axis=1).columns).reset_index(drop=True)\n",
    "df_train_tf['target'] = df_train['target'].values\n",
    "df_test_tf['target'] = df_test['target'].values\n",
    "df_train.info()\n",
    "display(df_train_tf.sample(4))\n",
    "display(df_test_tf.sample(4))\n"
   ]
  },
  {
   "cell_type": "code",
   "execution_count": null,
   "metadata": {},
   "outputs": [],
   "source": [
    "display(df_train.describe(include='number').T)\n",
    "display(df_train.describe(include='category').T)\n"
   ]
  },
  {
   "cell_type": "code",
   "execution_count": null,
   "metadata": {},
   "outputs": [],
   "source": [
    "# analisis univariado\n",
    "df_train.hist()\n",
    "plt.show()\n"
   ]
  }
 ],
 "metadata": {
  "kernelspec": {
   "display_name": ".venv",
   "language": "python",
   "name": "python3"
  },
  "language_info": {
   "codemirror_mode": {
    "name": "ipython",
    "version": 3
   },
   "file_extension": ".py",
   "mimetype": "text/x-python",
   "name": "python",
   "nbconvert_exporter": "python",
   "pygments_lexer": "ipython3",
   "version": "3.12.1"
  }
 },
 "nbformat": 4,
 "nbformat_minor": 2
}
